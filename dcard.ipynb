{
 "cells": [
  {
   "cell_type": "code",
   "execution_count": null,
   "metadata": {},
   "outputs": [],
   "source": [
    "# !pip3 install selenium\n",
    "# !pip3 install fake_useragent\n",
    "# !pip3 install selenium-wire\n",
    "# !pip3 install undetected_chromedriver \n"
   ]
  },
  {
   "cell_type": "code",
   "execution_count": null,
   "metadata": {},
   "outputs": [],
   "source": [
    "from selenium import webdriver\n",
    "from selenium.webdriver.common.action_chains import ActionChains\n",
    "from selenium.webdriver.common.by import By\n",
    "from selenium.webdriver.common.keys import Keys\n",
    "from selenium.webdriver.support.ui import WebDriverWait\n",
    "from selenium.webdriver.support import expected_conditions as EC\n",
    "\n",
    "from time import sleep\n",
    "import random\n",
    "import undetected_chromedriver as uc\n",
    "import json"
   ]
  },
  {
   "cell_type": "code",
   "execution_count": null,
   "metadata": {},
   "outputs": [],
   "source": [
    "# options = Options()\n",
    "# options.add_argument(\"--headless\")"
   ]
  },
  {
   "cell_type": "code",
   "execution_count": null,
   "metadata": {},
   "outputs": [],
   "source": [
    "# driver = webdriver.Chrome()\n",
    "driver = uc.Chrome()\n",
    "\n",
    "# get to boba forum\n",
    "driver.get(\"https://www.dcard.tw/\"+\"f/boba\")\n",
    "actions = ActionChains(driver)  # init actions\n",
    "sleep(15)  # depends on how fast your computer and wifi is.\n",
    "\n",
    "seen = set()\n",
    "\n",
    "for _ in range(1000):\n",
    "    sleep(random.random()*3)\n",
    "\n",
    "    count = len(driver.find_elements(By.TAG_NAME, \"article\"))\n",
    "    for _ in range(4):\n",
    "        actions.send_keys(Keys.ARROW_DOWN).perform()\n",
    "    wait = WebDriverWait(driver, 40)\n",
    "\n",
    "    articles = wait.until(\n",
    "        EC.presence_of_all_elements_located(\n",
    "            (By.TAG_NAME, \"article\")\n",
    "        )\n",
    "    )\n",
    "    new_count = len(driver.find_elements(By.TAG_NAME, \"article\"))\n",
    "    if count > new_count:\n",
    "        continue\n",
    "\n",
    "    try:\n",
    "        tmp = [article.find_element(By.TAG_NAME, \"a\").get_attribute(\n",
    "            \"href\") for article in articles]\n",
    "        for i in range(len(tmp)):\n",
    "            seen.add(tmp[i])\n",
    "    except:\n",
    "        print(\"錯誤\")\n",
    "\n"
   ]
  },
  {
   "cell_type": "code",
   "execution_count": null,
   "metadata": {},
   "outputs": [],
   "source": [
    "print(len(seen))"
   ]
  },
  {
   "cell_type": "code",
   "execution_count": null,
   "metadata": {},
   "outputs": [],
   "source": [
    "\n",
    "with open(\"urls.json\", \"w\",encoding='utf-8') as f:\n",
    "    json.dump(list(seen), f,ensure_ascii=False)\n"
   ]
  },
  {
   "cell_type": "code",
   "execution_count": null,
   "metadata": {},
   "outputs": [],
   "source": [
    "json_data = {}"
   ]
  },
  {
   "cell_type": "code",
   "execution_count": null,
   "metadata": {},
   "outputs": [],
   "source": [
    "driver = uc.Chrome()\n",
    "i = 0\n",
    "for url in seen:\n",
    "    sleep(random.random()*3)\n",
    "    driver.get(url)\n",
    "    \n",
    "    wait = WebDriverWait(driver, 40)\n",
    "    article = wait.until(\n",
    "        EC.presence_of_element_located((By.TAG_NAME, \"article\")))\n",
    "    h1 = article.find_element(By.TAG_NAME, \"h1\")\n",
    "    print(h1.text)\n",
    "    texts = article.find_elements(By.TAG_NAME, \"span\")\n",
    "    print(\"==========\")\n",
    "    content = \"\"\n",
    "    for j in range(len(texts)):\n",
    "        content += texts[j].text\n",
    "    json_data[i] = {\n",
    "        \"title\": h1.text,\n",
    "        \"url\": url,\n",
    "        \"content\": content\n",
    "    }\n",
    "    i += 1\n",
    "    sleep(3)\n",
    "\n",
    "print(json_data)\n",
    "\n",
    "driver.close()\n"
   ]
  },
  {
   "cell_type": "code",
   "execution_count": null,
   "metadata": {},
   "outputs": [],
   "source": [
    "print(json_data)\n",
    "with open(\"data.json\", \"w\",encoding='utf-8') as f:\n",
    "    json.dump(json_data, f,ensure_ascii=False)\n"
   ]
  },
  {
   "cell_type": "code",
   "execution_count": null,
   "metadata": {},
   "outputs": [],
   "source": [
    "with open('data.json','r',encoding='utf-8') as f:\n",
    "    json_str = f.read()\n",
    "    print(json_str)"
   ]
  },
  {
   "cell_type": "code",
   "execution_count": null,
   "metadata": {},
   "outputs": [],
   "source": [
    "print(urls)"
   ]
  },
  {
   "cell_type": "code",
   "execution_count": null,
   "metadata": {},
   "outputs": [],
   "source": []
  }
 ],
 "metadata": {
  "kernelspec": {
   "display_name": "fp-hVogd_59",
   "language": "python",
   "name": "python3"
  },
  "language_info": {
   "codemirror_mode": {
    "name": "ipython",
    "version": 3
   },
   "file_extension": ".py",
   "mimetype": "text/x-python",
   "name": "python",
   "nbconvert_exporter": "python",
   "pygments_lexer": "ipython3",
   "version": "3.11.3"
  },
  "orig_nbformat": 4
 },
 "nbformat": 4,
 "nbformat_minor": 2
}
